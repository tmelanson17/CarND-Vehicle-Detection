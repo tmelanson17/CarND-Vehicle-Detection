{
 "cells": [
  {
   "cell_type": "code",
   "execution_count": 1,
   "metadata": {},
   "outputs": [
    {
     "name": "stdout",
     "output_type": "stream",
     "text": [
      "[MoviePy] >>>> Building video test_Y_big.mp4\n",
      "[MoviePy] Writing video test_Y_big.mp4\n"
     ]
    },
    {
     "name": "stderr",
     "output_type": "stream",
     "text": [
      " 99%|█████████▉| 129/130 [27:22<00:12, 12.73s/it]\n"
     ]
    },
    {
     "name": "stdout",
     "output_type": "stream",
     "text": [
      "[MoviePy] Done.\n",
      "[MoviePy] >>>> Video ready: test_Y_big.mp4 \n",
      "\n",
      "CPU times: user 19min 6s, sys: 18.2 s, total: 19min 24s\n",
      "Wall time: 27min 24s\n"
     ]
    }
   ],
   "source": [
    "from moviepy.editor import VideoFileClip\n",
    "from pipeline import pipeline\n",
    "import pickle\n",
    "video = VideoFileClip('project_video_tail.mp4')\n",
    "\n",
    "import  matplotlib.pyplot  as plt\n",
    "output_file = 'test_Y_big.mp4'\n",
    "params = pickle.load( open(\"svc_pickle_Y_big.p\", \"rb\" ) )\n",
    "frame = video.fl(lambda gf, t: pipeline(gf(t), params)) # Insert main pipeline function here\n",
    "%time frame.write_videofile(output_file, audio=False)"
   ]
  },
  {
   "cell_type": "code",
   "execution_count": 1,
   "metadata": {},
   "outputs": [
    {
     "name": "stderr",
     "output_type": "stream",
     "text": [
      "Using TensorFlow backend.\n"
     ]
    },
    {
     "name": "stdout",
     "output_type": "stream",
     "text": [
      "[MoviePy] >>>> Building video test_ssd.mp4\n",
      "[MoviePy] Writing video test_ssd.mp4\n"
     ]
    },
    {
     "name": "stderr",
     "output_type": "stream",
     "text": [
      " 99%|█████████▉| 129/130 [07:14<00:03,  3.37s/it]\n"
     ]
    },
    {
     "name": "stdout",
     "output_type": "stream",
     "text": [
      "[MoviePy] Done.\n",
      "[MoviePy] >>>> Video ready: test_ssd.mp4 \n",
      "\n",
      "CPU times: user 15min 9s, sys: 1min 40s, total: 16min 49s\n",
      "Wall time: 7min 16s\n"
     ]
    }
   ],
   "source": [
    "from moviepy.editor import VideoFileClip\n",
    "from pipeline_ssd import *\n",
    "from matplotlib import pyplot as plt\n",
    "\n",
    "\n",
    "dir_path = './ssd_keras'\n",
    "ssd_file = os.path.join(dir_path, 'SSD/weights_SSD300.hdf5')\n",
    "\n",
    "model_params = init_model(ssd_file)\n",
    "\n",
    "video = VideoFileClip('project_video_tail.mp4')\n",
    "\n",
    "output_file = 'test_ssd.mp4'\n",
    "frame = video.fl(lambda gf, t: pipeline(gf(t), model_params)) # Insert main pipeline function here\n",
    "%time frame.write_videofile(output_file, audio=False)"
   ]
  },
  {
   "cell_type": "code",
   "execution_count": null,
   "metadata": {},
   "outputs": [],
   "source": []
  }
 ],
 "metadata": {
  "kernelspec": {
   "display_name": "Python 3",
   "language": "python",
   "name": "python3"
  },
  "language_info": {
   "codemirror_mode": {
    "name": "ipython",
    "version": 3
   },
   "file_extension": ".py",
   "mimetype": "text/x-python",
   "name": "python",
   "nbconvert_exporter": "python",
   "pygments_lexer": "ipython3",
   "version": "3.5.5"
  }
 },
 "nbformat": 4,
 "nbformat_minor": 2
}
