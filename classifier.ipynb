{
 "cells": [
  {
   "cell_type": "code",
   "execution_count": 8,
   "metadata": {},
   "outputs": [
    {
     "name": "stdout",
     "output_type": "stream",
     "text": [
      "17760\n",
      "99.63 Seconds to extract HOG features...\n"
     ]
    }
   ],
   "source": [
    "import matplotlib.image as mpimg\n",
    "import matplotlib.pyplot as plt\n",
    "import numpy as np\n",
    "import cv2\n",
    "import glob\n",
    "import time\n",
    "from sklearn.svm import LinearSVC\n",
    "from sklearn.preprocessing import StandardScaler\n",
    "from skimage.feature import hog\n",
    "from lesson_functions import *\n",
    "\n",
    "# NOTE: the next import is only valid for scikit-learn version <= 0.17\n",
    "# for scikit-learn >= 0.18 use:\n",
    "from sklearn.model_selection import train_test_split\n",
    "# from sklearn.cross_validation import train_test_split\n",
    "\n",
    "\n",
    "# Define a function to extract features from a list of images\n",
    "# Have this function call bin_spatial() and color_hist()\n",
    "def extract_features(imgs, cspace='RGB', orient=9, \n",
    "                        pix_per_cell=8, cell_per_block=2, hog_channel=0):\n",
    "    # Create a list to append feature vectors to\n",
    "    features = []\n",
    "    # Iterate through the list of images\n",
    "    for file in imgs:\n",
    "        # Read in each one by one\n",
    "        image = mpimg.imread(file)\n",
    "#         image = cv2.resize(image, (64, 64))\n",
    "        # apply color conversion if other than 'RGB'\n",
    "        if cspace != 'RGB':\n",
    "            if cspace == 'HSV':\n",
    "                feature_image = cv2.cvtColor(image, cv2.COLOR_RGB2HSV)\n",
    "            elif cspace == 'LUV':\n",
    "                feature_image = cv2.cvtColor(image, cv2.COLOR_RGB2LUV)\n",
    "            elif cspace == 'HLS':\n",
    "                feature_image = cv2.cvtColor(image, cv2.COLOR_RGB2HLS)\n",
    "            elif cspace == 'YUV':\n",
    "                feature_image = cv2.cvtColor(image, cv2.COLOR_RGB2YUV)\n",
    "            elif cspace == 'YCrCb':\n",
    "                feature_image = cv2.cvtColor(image, cv2.COLOR_RGB2YCrCb)\n",
    "        else: feature_image = np.copy(image) \n",
    "        # Call get_hog_features() with vis=False, feature_vec=True\n",
    "        if hog_channel == 'ALL':\n",
    "            hog_features = []\n",
    "            for channel in range(feature_image.shape[2]):\n",
    "                hog_features.append(get_hog_features(feature_image[:,:,channel], \n",
    "                                    orient, pix_per_cell, cell_per_block, \n",
    "                                    vis=False, feature_vec=True, tsqrt=True))\n",
    "            hog_features = np.ravel(hog_features)        \n",
    "        else:\n",
    "            hog_features = get_hog_features(feature_image[:,:,hog_channel], orient, \n",
    "                        pix_per_cell, cell_per_block, vis=False, feature_vec=True, tsqrt=True)\n",
    "        # Get color features\n",
    "#         spatial_features = bin_spatial(image, size=(spatial, spatial))\n",
    "#         hist_features = color_hist(image, nbins=histbin)\n",
    "        \n",
    "        if np.any(np.isnan(hog_features)):\n",
    "            continue\n",
    "        # Append the new feature vector to the features list\n",
    "        feature = np.hstack([hog_features])\n",
    "        features.append(feature)\n",
    "    # Return list of feature vectors\n",
    "    return features\n",
    "\n",
    "\n",
    "# Divide up into cars and notcars\n",
    "images = glob.glob('*vehicles/*/*.png')\n",
    "print(len(images))\n",
    "cars = []\n",
    "notcars = []\n",
    "for image in images:\n",
    "    if 'non' in image or 'negative' in image:\n",
    "        notcars.append(image)\n",
    "    else: \n",
    "        cars.append(image)\n",
    "cars = np.array(cars)        \n",
    "notcars = np.array(notcars)\n",
    "\n",
    "# Reduce the sample size because HOG features are slow to compute\n",
    "# The quiz evaluator times out after 13s of CPU time\n",
    "# sample_size = 1000\n",
    "# samples = np.random.randint(0, len(cars), sample_size)\n",
    "# samples_nc = np.random.randint(0, len(notcars), sample_size)\n",
    "cars = cars[:]\n",
    "notcars = notcars[:]\n",
    "\n",
    "### TODO: Tweak these parameters and see how the results change.\n",
    "colorspace = 'YCrCb' # Can be RGB, HSV, LUV, HLS, YUV, YCrCb\n",
    "orient = 9\n",
    "pix_per_cell = 12\n",
    "cell_per_block = 2\n",
    "hog_channel = \"ALL\" # Can be 0, 1, 2, or \"ALL\"\n",
    "\n",
    "t=time.time()\n",
    "car_features = extract_features(cars, cspace=colorspace, orient=orient, \n",
    "                        pix_per_cell=pix_per_cell, cell_per_block=cell_per_block, \n",
    "                        hog_channel=hog_channel)\n",
    "notcar_features = extract_features(notcars, cspace=colorspace, orient=orient, \n",
    "                        pix_per_cell=pix_per_cell, cell_per_block=cell_per_block, \n",
    "                        hog_channel=hog_channel)\n",
    "t2 = time.time()\n",
    "print(round(t2-t, 2), 'Seconds to extract HOG features...')"
   ]
  },
  {
   "cell_type": "code",
   "execution_count": 9,
   "metadata": {},
   "outputs": [
    {
     "name": "stdout",
     "output_type": "stream",
     "text": [
      "Feature vector length:\n",
      "(1728,)\n",
      "(1728,)\n"
     ]
    }
   ],
   "source": [
    "print(\"Feature vector length:\")\n",
    "print(car_features[0].shape)\n",
    "\n",
    "imgs = ['corner-cases/corner-case-car.png']\n",
    "# Define a function to extract features from a list of images\n",
    "# Have this function call bin_spatial() and color_hist()\n",
    "features = extract_features(imgs, cspace=colorspace, orient=orient, \n",
    "                        pix_per_cell=pix_per_cell, cell_per_block=cell_per_block, \n",
    "                        hog_channel=hog_channel)[0]\n",
    "print(features.shape)"
   ]
  },
  {
   "cell_type": "code",
   "execution_count": 10,
   "metadata": {},
   "outputs": [
    {
     "name": "stdout",
     "output_type": "stream",
     "text": [
      "(8792, 1728)\n",
      "(8968, 1728)\n"
     ]
    }
   ],
   "source": [
    "from sklearn.svm import SVC\n",
    "from sklearn.model_selection import GridSearchCV, RandomizedSearchCV\n",
    "print(np.array(car_features).shape)\n",
    "print(np.array(notcar_features).shape)\n",
    "# Create an array stack of feature vectors\n",
    "X = np.vstack((car_features, notcar_features)).astype(np.float64)\n",
    "\n",
    "# Define the labels vector\n",
    "y = np.hstack((np.ones(len(car_features)), np.zeros(len(notcar_features))))\n",
    "\n",
    "# Split up data into randomized training and test sets\n",
    "rand_state = np.random.randint(0, 100)\n",
    "X_train, X_test, y_train, y_test = train_test_split(\n",
    "    X, y, test_size=0.2, random_state=rand_state)\n",
    "    "
   ]
  },
  {
   "cell_type": "code",
   "execution_count": 22,
   "metadata": {},
   "outputs": [
    {
     "name": "stdout",
     "output_type": "stream",
     "text": [
      "Using: 9 orientations 12 pixels per cell and 2 cells per block\n",
      "Feature vector length: 1728\n",
      "555.77 Seconds to train SVC...\n"
     ]
    }
   ],
   "source": [
    "# Fit a per-column scaler\n",
    "X_scaler = StandardScaler().fit(X_train)\n",
    "# Apply the scaler to X\n",
    "X_train = X_scaler.transform(X_train)\n",
    "X_test = X_scaler.transform(X_test)\n",
    "\n",
    "print('Using:',orient,'orientations',pix_per_cell,\n",
    "    'pixels per cell and', cell_per_block,'cells per block')\n",
    "print('Feature vector length:', len(X_train[0]))\n",
    "\n",
    "# Use a nonlinear SVC \n",
    "parameters = {'kernel':('linear', 'rbf'), 'C':[0.01, 1.0, 10.]} \n",
    "clf = SVC(kernel='rbf', C=1., gamma=0.01)\n",
    "# clf = GridSearchCV(svc, parameters) \n",
    "\n",
    "# Check the training time for the SVC\n",
    "t=time.time()\n",
    "clf.fit(X_train, y_train)\n",
    "t2 = time.time()\n",
    "print(round(t2-t, 2), 'Seconds to train SVC...')"
   ]
  },
  {
   "cell_type": "code",
   "execution_count": 28,
   "metadata": {},
   "outputs": [],
   "source": [
    "import pickle\n",
    "# load a pe-trained svc model from a serialized (pickle) file\n",
    "dist_pickle = pickle.load( open(\"svc_pickle_Y.p\", \"rb\" ) )\n",
    "\n",
    "# get attributes of our svc object\n",
    "clf = dist_pickle[\"svc\"]\n",
    "X_scaler = dist_pickle[\"scaler\"]\n",
    "orient = dist_pickle[\"orient\"]\n",
    "pix_per_cell = dist_pickle[\"pix_per_cell\"]\n",
    "cell_per_block = dist_pickle[\"cell_per_block\"]\n",
    "cspace = dist_pickle[\"colorspace\"]\n",
    "hog_channel = dist_pickle[\"hog_channel\"]\n"
   ]
  },
  {
   "cell_type": "code",
   "execution_count": 12,
   "metadata": {},
   "outputs": [
    {
     "name": "stdout",
     "output_type": "stream",
     "text": [
      "3552\n"
     ]
    }
   ],
   "source": [
    "print(len(X_test))"
   ]
  },
  {
   "cell_type": "code",
   "execution_count": 19,
   "metadata": {},
   "outputs": [
    {
     "name": "stdout",
     "output_type": "stream",
     "text": [
      "Range of values:  -0.942713734534 112.732198392 Mean / STD:  3.96375921371e-18 1.0\n",
      "Test Accuracy of SVC =  0.9614\n",
      "Feature shape:  (1, 1728)\n",
      "Feature range:  -0.942713734534 181.941575305 -0.0074497084943\n",
      "My SVC predicts:  [-15.70578392  -1.41009079   7.18575472 -16.63849397   2.01412133\n",
      "   8.11799247   1.05446536 -16.688456     5.18797444  -3.06600437]\n",
      "For these 10 labels:  [ 0.  1.  1.  0.  1.  1.  1.  0.  1.  0.]\n",
      "0.03515 Seconds to predict 10 labels with SVC\n",
      "SVC random prediction:\n",
      "Maximum:  -10 Minimum [-92.53089529]\n"
     ]
    }
   ],
   "source": [
    "# Check the score of the SVC\n",
    "print(\"Range of values: \", np.min(X_train), np.max(X_train), \"Mean / STD: \", np.mean(X_train), np.std(X_train))\n",
    "print('Test Accuracy of SVC = ', round(clf.score(X_test, y_test), 4))\n",
    "# Check the prediction time for a single sample\n",
    "t=time.time()\n",
    "n_predict = 10\n",
    "print(\"Feature shape: \", X_test[0:1].shape)\n",
    "print(\"Feature range: \", np.min(X_test), np.max(X_test), np.mean(X_test))\n",
    "print('My SVC predicts: ', clf.decision_function(X_test[0:n_predict]))\n",
    "print('For these',n_predict, 'labels: ', y_test[0:n_predict])\n",
    "t2 = time.time()\n",
    "print(round(t2-t, 5), 'Seconds to predict', n_predict,'labels with SVC')\n",
    "print(\"SVC random prediction:\")\n",
    "minimum = 10\n",
    "maximum = -10\n",
    "for i in range(400):\n",
    "    x_random = 3*np.random.random([1, len(X_train[0])])\n",
    "    dec = clf.decision_function(x_random)\n",
    "    if dec > maximum:\n",
    "        maximum = dec\n",
    "    elif dec < minimum:\n",
    "        minimum = dec\n",
    "print(\"Maximum: \", maximum, \"Minimum\", minimum)"
   ]
  },
  {
   "cell_type": "code",
   "execution_count": 21,
   "metadata": {},
   "outputs": [],
   "source": [
    "import pickle\n",
    "# set attributes of our svc object\n",
    "dist_pickle = dict()\n",
    "dist_pickle[\"svc\"] = clf\n",
    "dist_pickle[\"scaler\"] = X_scaler\n",
    "dist_pickle[\"orient\"] = orient\n",
    "dist_pickle[\"pix_per_cell\"] = pix_per_cell\n",
    "dist_pickle[\"cell_per_block\"] = cell_per_block\n",
    "# dist_pickle[\"spatial_size\"] = (spatial, spatial)\n",
    "# dist_pickle[\"hist_bins\"] = histbin\n",
    "dist_pickle[\"colorspace\"] = colorspace\n",
    "dist_pickle[\"hog_channel\"] = hog_channel\n",
    "pickle.dump(dist_pickle, open(\"svc_pickle_HLSsmall.p\", 'wb'))"
   ]
  },
  {
   "cell_type": "code",
   "execution_count": null,
   "metadata": {},
   "outputs": [],
   "source": []
  }
 ],
 "metadata": {
  "kernelspec": {
   "display_name": "Python 3",
   "language": "python",
   "name": "python3"
  },
  "language_info": {
   "codemirror_mode": {
    "name": "ipython",
    "version": 3
   },
   "file_extension": ".py",
   "mimetype": "text/x-python",
   "name": "python",
   "nbconvert_exporter": "python",
   "pygments_lexer": "ipython3",
   "version": "3.5.5"
  }
 },
 "nbformat": 4,
 "nbformat_minor": 2
}
